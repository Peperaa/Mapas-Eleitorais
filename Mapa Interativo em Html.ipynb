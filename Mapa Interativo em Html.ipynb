{
 "cells": [
  {
   "cell_type": "markdown",
   "id": "949f6ff3",
   "metadata": {
    "jp-MarkdownHeadingCollapsed": true
   },
   "source": [
    "# Bibliotecas"
   ]
  },
  {
   "cell_type": "code",
   "execution_count": 1,
   "id": "bcae29a7",
   "metadata": {},
   "outputs": [],
   "source": [
    "import folium\n",
    "import json\n",
    "from branca.colormap import LinearColormap"
   ]
  },
  {
   "cell_type": "markdown",
   "id": "7d5238e4",
   "metadata": {
    "jp-MarkdownHeadingCollapsed": true
   },
   "source": [
    "# Base de Dados"
   ]
  },
  {
   "cell_type": "markdown",
   "id": "98025d20-622f-42ef-b4ff-3d179a4becc9",
   "metadata": {},
   "source": [
    "Para fazer os mapas no formato Geojson, verificar o meu notebook \"Criação de Mapa de Votos\""
   ]
  },
  {
   "cell_type": "code",
   "execution_count": 7,
   "id": "37f2600f",
   "metadata": {},
   "outputs": [],
   "source": [
    "\n",
    "with open('Mapas/São Paulo/2018/Mapa_Boulos_2018/Geojson/mapa_votos_guilherme_boulos_2020.geojson', encoding='utf-8') as f:\n",
    "    geojson_data_18 = json.load(f)\n",
    "\n",
    "with open('Mapas/São Paulo/2020/Mapa_Boulos_2020_1/Geojson/mapa_votos_guilherme_boulos_2020.geojson', encoding='utf-8') as g:\n",
    "    geojson_data_20 = json.load(g)\n",
    "\n",
    "with open('Mapas/São Paulo/2020/Mapa_Boulos_2020_2/Geojson/mapa_votos_guilherme_boulos_2020_2.geojson', encoding='utf-8') as h:\n",
    "    geojson_data_20_2 = json.load(h)\n",
    "\n",
    "with open('Mapas/São Paulo/2022/Mapa_Boulos_2022/Geojson/mapa_votos_guilherme_boulos_2022.geojson', encoding='utf-8') as i:\n",
    "    geojson_data_22 = json.load(i)"
   ]
  },
  {
   "cell_type": "markdown",
   "id": "e8d8ed9a",
   "metadata": {
    "jp-MarkdownHeadingCollapsed": true
   },
   "source": [
    "# Criação de um Mapa Interativo em HTML"
   ]
  },
  {
   "cell_type": "code",
   "execution_count": 6,
   "id": "837261fb-1141-47d3-93f2-339b03c38050",
   "metadata": {},
   "outputs": [],
   "source": [
    "m = folium.Map(location=[-23.5505, -46.6333], tiles=\"cartodbpositron\", zoom_start=10)\n",
    "\n",
    "intervalos_18 = [484, 833, 1182, 1531, 1880, 2229, 2578]\n",
    "cores_18 = ['white', '#FEF67C', '#FDD663', '#FCBF49', '#FBA730', '#FA9316', '#F97B00']\n",
    "\n",
    "colormap_18 = LinearColormap(cores_18, vmin=min(intervalos_18), vmax=max(intervalos_18))\n",
    "\n",
    "intervalos_20 = [8689, 12395, 16101, 19807, 23513, 27219, 30925]\n",
    "intervalos_20_2 = [16239, 26733, 37228, 47723, 58218, 68713, 79208]\n",
    "intervalos_22 = [4455, 6432, 8410, 10387, 12365, 14342, 16320]\n",
    "\n",
    "colormap_20 = LinearColormap(cores_18, vmin=min(intervalos_20), vmax=max(intervalos_20))\n",
    "colormap_20_2 = LinearColormap(cores_18, vmin=min(intervalos_20_2), vmax=max(intervalos_20_2))\n",
    "colormap_22 = LinearColormap(cores_18, vmin=min(intervalos_22), vmax=max(intervalos_22))\n",
    "\n",
    "folium.GeoJson(\n",
    "    geojson_data_18,\n",
    "    style_function=lambda feature: {\n",
    "        'fillColor': colormap_18(feature['properties']['QT_VOTOS_NOMINAIS_VALIDOS']),\n",
    "        'color': 'black',\n",
    "        'weight': 1,\n",
    "        'fillOpacity': 0.7\n",
    "    },\n",
    "    tooltip=folium.features.GeoJsonTooltip(fields=['FIRST_NOME', 'QT_VOTOS_NOMINAIS_VALIDOS'],\n",
    "                                           aliases=['Nome:', 'Votos:']),\n",
    "    name='Mapa de Votos - Boulos - 2018'\n",
    ").add_to(m)\n",
    "\n",
    "folium.GeoJson(\n",
    "    geojson_data_20,\n",
    "    style_function=lambda feature: {\n",
    "        'fillColor': colormap_20(feature['properties']['QT_VOTOS']),\n",
    "        'color': 'black',\n",
    "        'weight': 1,\n",
    "        'fillOpacity': 0.7\n",
    "    },\n",
    "    tooltip=folium.features.GeoJsonTooltip(fields=['FIRST_NOME', 'QT_VOTOS'],\n",
    "                                           aliases=['Nome:', 'Votos:']),\n",
    "    name='Mapa de Votos - Boulos - 2020 - 1º Turno'\n",
    ").add_to(m)\n",
    "\n",
    "folium.GeoJson(\n",
    "    geojson_data_20_2,\n",
    "    style_function=lambda feature: {\n",
    "        'fillColor': colormap_20_2(feature['properties']['QT_VOTOS']),\n",
    "        'color': 'black',\n",
    "        'weight': 1,\n",
    "        'fillOpacity': 0.7\n",
    "    },\n",
    "    tooltip=folium.features.GeoJsonTooltip(fields=['FIRST_NOME', 'QT_VOTOS'],\n",
    "                                           aliases=['Nome:', 'Votos:']),\n",
    "    name='Mapa de Votos - Boulos - 2020 - 2º Turno'\n",
    ").add_to(m)\n",
    "\n",
    "folium.GeoJson(\n",
    "    geojson_data_22,\n",
    "    style_function=lambda feature: {\n",
    "        'fillColor': colormap_22(feature['properties']['QT_VOTOS']),\n",
    "        'color': 'black',\n",
    "        'weight': 1,\n",
    "        'fillOpacity': 0.7\n",
    "    },\n",
    "    tooltip=folium.features.GeoJsonTooltip(fields=['FIRST_NOME', 'QT_VOTOS'],\n",
    "                                           aliases=['Nome:', 'Votos:']),\n",
    "    name='Mapa de Votos - Boulos - 2022'\n",
    ").add_to(m)\n",
    "\n",
    "folium.LayerControl().add_to(m)\n",
    "\n",
    "m.save('Mapas/São Paulo/Mapa Interativo - Histórico Eleitoral - Boulos.html')\n",
    "\n"
   ]
  },
  {
   "cell_type": "code",
   "execution_count": null,
   "id": "0ee06bd5-a137-4f66-a380-197820070f18",
   "metadata": {},
   "outputs": [],
   "source": []
  }
 ],
 "metadata": {
  "kernelspec": {
   "display_name": "Python 3 (ipykernel)",
   "language": "python",
   "name": "python3"
  },
  "language_info": {
   "codemirror_mode": {
    "name": "ipython",
    "version": 3
   },
   "file_extension": ".py",
   "mimetype": "text/x-python",
   "name": "python",
   "nbconvert_exporter": "python",
   "pygments_lexer": "ipython3",
   "version": "3.11.3"
  }
 },
 "nbformat": 4,
 "nbformat_minor": 5
}
